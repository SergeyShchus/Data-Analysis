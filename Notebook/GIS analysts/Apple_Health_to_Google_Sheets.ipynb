{
  "nbformat": 4,
  "nbformat_minor": 0,
  "metadata": {
    "colab": {
      "name": "Apple Health to Google Sheets.ipynb",
      "provenance": [],
      "authorship_tag": "ABX9TyMW+yuPPmXlPzKnvLZpI0+j",
      "include_colab_link": true
    },
    "kernelspec": {
      "name": "python3",
      "display_name": "Python 3"
    }
  },
  "cells": [
    {
      "cell_type": "markdown",
      "metadata": {
        "id": "view-in-github",
        "colab_type": "text"
      },
      "source": [
        "<a href=\"https://colab.research.google.com/github/SergeyShchus/Data-Analysis/blob/master/Notebook/GIS%20analysts/Apple_Health_to_Google_Sheets.ipynb\" target=\"_parent\"><img src=\"https://colab.research.google.com/assets/colab-badge.svg\" alt=\"Open In Colab\"/></a>"
      ]
    },
    {
      "cell_type": "code",
      "metadata": {
        "colab": {
          "base_uri": "https://localhost:8080/"
        },
        "id": "izvzonXh1NG0",
        "outputId": "d6524a3d-b8ab-4b15-cc09-49f5b2833379"
      },
      "source": [
        "from google.colab import drive\r\n",
        "drive.mount('/content/gdrive')"
      ],
      "execution_count": 2,
      "outputs": [
        {
          "output_type": "stream",
          "text": [
            "Mounted at /content/gdrive\n"
          ],
          "name": "stdout"
        }
      ]
    },
    {
      "cell_type": "code",
      "metadata": {
        "colab": {
          "base_uri": "https://localhost:8080/"
        },
        "id": "47CGWvUY2D2j",
        "outputId": "b6619f19-4335-4397-d2e6-183ee56e7202"
      },
      "source": [
        "!unzip export.zip"
      ],
      "execution_count": 6,
      "outputs": [
        {
          "output_type": "stream",
          "text": [
            "Archive:  export.zip\n",
            "  inflating: apple_health_export/export.xml  \n",
            "  inflating: apple_health_export/export_cda.xml  \n"
          ],
          "name": "stdout"
        }
      ]
    },
    {
      "cell_type": "code",
      "metadata": {
        "id": "lTfiIQSY0NWn"
      },
      "source": [
        "from xml.etree import ElementTree\r\n",
        "import pandas as pd\r\n",
        "import datetime"
      ],
      "execution_count": 7,
      "outputs": []
    },
    {
      "cell_type": "code",
      "metadata": {
        "id": "L1yKvH2a1FY6"
      },
      "source": [
        "tree = ElementTree.parse('/content/apple_health_export/export.xml')\r\n",
        "root = tree.getroot()\r\n",
        "records = root.findall('Record')"
      ],
      "execution_count": 16,
      "outputs": []
    },
    {
      "cell_type": "code",
      "metadata": {
        "id": "ETcFGblo2uhp"
      },
      "source": [
        "records_dict = {\r\n",
        "    'type':[],\r\n",
        "    'unit':[],\r\n",
        "    'creationDate':[],\r\n",
        "    'startDate':[],\r\n",
        "    'endDate':[],\r\n",
        "    'value':[]\r\n",
        "}\r\n",
        "\r\n",
        "for record in records:\r\n",
        "    for attribute in records_dict.keys():\r\n",
        "        attribute_value = record.get(attribute)\r\n",
        "        records_dict[attribute].append(attribute_value)"
      ],
      "execution_count": 17,
      "outputs": []
    },
    {
      "cell_type": "code",
      "metadata": {
        "colab": {
          "base_uri": "https://localhost:8080/",
          "height": 197
        },
        "id": "HGgzcuwb4Pc2",
        "outputId": "8a07bdde-06d1-4cef-973e-c31693101e93"
      },
      "source": [
        "df = pd.DataFrame(records_dict)\r\n",
        "df.head()"
      ],
      "execution_count": 19,
      "outputs": [
        {
          "output_type": "execute_result",
          "data": {
            "text/html": [
              "<div>\n",
              "<style scoped>\n",
              "    .dataframe tbody tr th:only-of-type {\n",
              "        vertical-align: middle;\n",
              "    }\n",
              "\n",
              "    .dataframe tbody tr th {\n",
              "        vertical-align: top;\n",
              "    }\n",
              "\n",
              "    .dataframe thead th {\n",
              "        text-align: right;\n",
              "    }\n",
              "</style>\n",
              "<table border=\"1\" class=\"dataframe\">\n",
              "  <thead>\n",
              "    <tr style=\"text-align: right;\">\n",
              "      <th></th>\n",
              "      <th>type</th>\n",
              "      <th>unit</th>\n",
              "      <th>creationDate</th>\n",
              "      <th>startDate</th>\n",
              "      <th>endDate</th>\n",
              "      <th>value</th>\n",
              "    </tr>\n",
              "  </thead>\n",
              "  <tbody>\n",
              "    <tr>\n",
              "      <th>0</th>\n",
              "      <td>HKQuantityTypeIdentifierHeight</td>\n",
              "      <td>cm</td>\n",
              "      <td>2020-11-27 23:50:47 +0200</td>\n",
              "      <td>2020-11-27 23:50:47 +0200</td>\n",
              "      <td>2020-11-27 23:50:47 +0200</td>\n",
              "      <td>187</td>\n",
              "    </tr>\n",
              "    <tr>\n",
              "      <th>1</th>\n",
              "      <td>HKQuantityTypeIdentifierBodyMass</td>\n",
              "      <td>kg</td>\n",
              "      <td>2020-11-27 23:50:47 +0200</td>\n",
              "      <td>2020-11-27 23:50:47 +0200</td>\n",
              "      <td>2020-11-27 23:50:47 +0200</td>\n",
              "      <td>81</td>\n",
              "    </tr>\n",
              "    <tr>\n",
              "      <th>2</th>\n",
              "      <td>HKQuantityTypeIdentifierStepCount</td>\n",
              "      <td>count</td>\n",
              "      <td>2020-11-23 21:39:41 +0200</td>\n",
              "      <td>2020-11-23 21:28:38 +0200</td>\n",
              "      <td>2020-11-23 21:28:41 +0200</td>\n",
              "      <td>8</td>\n",
              "    </tr>\n",
              "    <tr>\n",
              "      <th>3</th>\n",
              "      <td>HKQuantityTypeIdentifierStepCount</td>\n",
              "      <td>count</td>\n",
              "      <td>2020-11-23 22:30:40 +0200</td>\n",
              "      <td>2020-11-23 22:19:38 +0200</td>\n",
              "      <td>2020-11-23 22:19:40 +0200</td>\n",
              "      <td>16</td>\n",
              "    </tr>\n",
              "    <tr>\n",
              "      <th>4</th>\n",
              "      <td>HKQuantityTypeIdentifierStepCount</td>\n",
              "      <td>count</td>\n",
              "      <td>2020-11-23 22:45:09 +0200</td>\n",
              "      <td>2020-11-23 22:34:06 +0200</td>\n",
              "      <td>2020-11-23 22:34:08 +0200</td>\n",
              "      <td>8</td>\n",
              "    </tr>\n",
              "  </tbody>\n",
              "</table>\n",
              "</div>"
            ],
            "text/plain": [
              "                                type   unit  ...                    endDate value\n",
              "0     HKQuantityTypeIdentifierHeight     cm  ...  2020-11-27 23:50:47 +0200   187\n",
              "1   HKQuantityTypeIdentifierBodyMass     kg  ...  2020-11-27 23:50:47 +0200    81\n",
              "2  HKQuantityTypeIdentifierStepCount  count  ...  2020-11-23 21:28:41 +0200     8\n",
              "3  HKQuantityTypeIdentifierStepCount  count  ...  2020-11-23 22:19:40 +0200    16\n",
              "4  HKQuantityTypeIdentifierStepCount  count  ...  2020-11-23 22:34:08 +0200     8\n",
              "\n",
              "[5 rows x 6 columns]"
            ]
          },
          "metadata": {
            "tags": []
          },
          "execution_count": 19
        }
      ]
    },
    {
      "cell_type": "code",
      "metadata": {
        "id": "kNWyP_qe3bmM"
      },
      "source": [
        "types_dict = {\r\n",
        "    'HKCategoryTypeIdentifierMindfulSession': 'Mindful Session',\r\n",
        "    'HKQuantityTypeIdentifierDistanceCycling': 'Cycling Distance',\r\n",
        "    'HKQuantityTypeIdentifierDistanceSwimming': 'Swimming Distance',\r\n",
        "    'HKQuantityTypeIdentifierDistanceWalkingRunning': 'Walking + Running Distance',\r\n",
        "    'HKQuantityTypeIdentifierFlightsClimbed': 'Flights Climbed',\r\n",
        "    'HKQuantityTypeIdentifierHeartRate': 'Heart Rate',\r\n",
        "    'HKQuantityTypeIdentifierRestingHeartRate': 'Resting Heart Rate',\r\n",
        "    'HKQuantityTypeIdentifierStepCount': 'Steps',\r\n",
        "    'HKQuantityTypeIdentifierActiveEnergyBurned': 'Active Calories',\r\n",
        "    'HKQuantityTypeIdentifierBasalEnergyBurned': 'Resting Calories',\r\n",
        "    'HKQuantityTypeIdentifierWalkingHeartRateAverage': 'Walking Heart Rate Average'\r\n",
        "}"
      ],
      "execution_count": 20,
      "outputs": []
    },
    {
      "cell_type": "code",
      "metadata": {
        "id": "l4gFDNKh38K2"
      },
      "source": [
        "def td_to_m(td):\r\n",
        "    seconds = td.seconds + td.days * 24 * 60 * 60\r\n",
        "    return seconds // 60"
      ],
      "execution_count": 22,
      "outputs": []
    },
    {
      "cell_type": "code",
      "metadata": {
        "id": "bu7qNXYK4BdV"
      },
      "source": [
        "df = pd.DataFrame(records_dict)\r\n",
        "df.columns = ['type', 'unit', 'date', 'start', 'end', 'value']\r\n",
        "df = df[df['type'].isin(types_dict.keys())]\r\n",
        "df['value'] = df['value'].astype(float)\r\n",
        "df['date'] = df['date'].astype('datetime64')\r\n",
        "df['date'] = df['date'].dt.date\r\n",
        "df['start'] = df['start'].astype('datetime64')\r\n",
        "df['end'] = df['end'].astype('datetime64')\r\n",
        "df['unit'] = df['unit'].astype(str)"
      ],
      "execution_count": 23,
      "outputs": []
    },
    {
      "cell_type": "code",
      "metadata": {
        "id": "5e2XUtNJ40wM"
      },
      "source": [
        "df_1 = df[df['unit'] == 'count/min']\r\n",
        "df_1 = df_1.groupby(by=['date', 'type', 'unit'], as_index=False).agg({'start':'min',\r\n",
        "                                                                      'end':'max',\r\n",
        "                                                                      'value':'mean'})\r\n",
        "\r\n",
        "df_2 = df[df['type'] == 'HKCategoryTypeIdentifierMindfulSession']\r\n",
        "df_2['value'] = df_2['end'] - df_2['start']\r\n",
        "df_2['value'] = df_2['value'].map(td_to_m)\r\n",
        "df_2 = df_2.groupby(by=['date', 'type', 'unit'], as_index=False).agg({'start':'min',\r\n",
        "                                                                     'end':'max',\r\n",
        "                                                                     'value':'sum'})\r\n",
        "df_3 = df[(df['unit'] != 'count/min') & (df['type'] != 'HKCategoryTypeIdentifierMindfulSession')]\r\n",
        "df_3 = df_3.groupby(by=['date', 'type', 'unit'], as_index=False).agg({'start':'min',\r\n",
        "                                                                      'end':'max',\r\n",
        "                                                                      'value':'sum'})\r\n",
        "df = pd.concat([df_1, df_2, df_3])"
      ],
      "execution_count": 24,
      "outputs": []
    },
    {
      "cell_type": "code",
      "metadata": {
        "id": "Gy1nyeoW41kV"
      },
      "source": [
        "df['date'] = df['date'].astype(str)\r\n",
        "df['type'] = df['type'].apply(lambda x: types_dict[x])\r\n",
        "dates = df['date'].unique()"
      ],
      "execution_count": 25,
      "outputs": []
    },
    {
      "cell_type": "code",
      "metadata": {
        "id": "87rtKQ855BdI"
      },
      "source": [
        "result = {\r\n",
        "    'date': [],\r\n",
        "    'Steps': [],\r\n",
        "    'Walking + Running Distance': [],\r\n",
        "    'Swimming Distance': [],\r\n",
        "    'Cycling Distance': [],\r\n",
        "    'Resting Calories': [],\r\n",
        "    'Active Calories': [],\r\n",
        "    'Flights Climbed': [],\r\n",
        "    'Heart Rate': [],\r\n",
        "    'Resting Heart Rate': [],\r\n",
        "    'Walking Heart Rate Average': [],\r\n",
        "    'Mindful Session': []\r\n",
        "}"
      ],
      "execution_count": 26,
      "outputs": []
    },
    {
      "cell_type": "code",
      "metadata": {
        "id": "1Zwm_owa5HIC"
      },
      "source": [
        "for date in dates:\r\n",
        "    part = df[df['date'] == date]\r\n",
        "    result['date'].append(date)\r\n",
        "    for key in result.keys():\r\n",
        "        if key == 'date':\r\n",
        "            continue\r\n",
        "        else:\r\n",
        "            field = 'value'\r\n",
        "        try:\r\n",
        "            result[key].append(part[part['type'] == key][field].values[0])\r\n",
        "        except IndexError:\r\n",
        "            result[key].append(None)"
      ],
      "execution_count": 27,
      "outputs": []
    },
    {
      "cell_type": "code",
      "metadata": {
        "id": "goXuRPV05OHJ"
      },
      "source": [
        "result_df = pd.DataFrame(result)\r\n",
        "result_df = result_df.round(2)\r\n",
        "result_df = result_df.sort_values(by='date')"
      ],
      "execution_count": 28,
      "outputs": []
    },
    {
      "cell_type": "code",
      "metadata": {
        "colab": {
          "base_uri": "https://localhost:8080/",
          "height": 606
        },
        "id": "A1-vFAKN5TjG",
        "outputId": "66c37b5b-db0c-4519-9b15-a52ff90b462a"
      },
      "source": [
        "result_df"
      ],
      "execution_count": 29,
      "outputs": [
        {
          "output_type": "execute_result",
          "data": {
            "text/html": [
              "<div>\n",
              "<style scoped>\n",
              "    .dataframe tbody tr th:only-of-type {\n",
              "        vertical-align: middle;\n",
              "    }\n",
              "\n",
              "    .dataframe tbody tr th {\n",
              "        vertical-align: top;\n",
              "    }\n",
              "\n",
              "    .dataframe thead th {\n",
              "        text-align: right;\n",
              "    }\n",
              "</style>\n",
              "<table border=\"1\" class=\"dataframe\">\n",
              "  <thead>\n",
              "    <tr style=\"text-align: right;\">\n",
              "      <th></th>\n",
              "      <th>date</th>\n",
              "      <th>Steps</th>\n",
              "      <th>Walking + Running Distance</th>\n",
              "      <th>Swimming Distance</th>\n",
              "      <th>Cycling Distance</th>\n",
              "      <th>Resting Calories</th>\n",
              "      <th>Active Calories</th>\n",
              "      <th>Flights Climbed</th>\n",
              "      <th>Heart Rate</th>\n",
              "      <th>Resting Heart Rate</th>\n",
              "      <th>Walking Heart Rate Average</th>\n",
              "      <th>Mindful Session</th>\n",
              "    </tr>\n",
              "  </thead>\n",
              "  <tbody>\n",
              "    <tr>\n",
              "      <th>0</th>\n",
              "      <td>2020-11-23</td>\n",
              "      <td>53.0</td>\n",
              "      <td>0.03</td>\n",
              "      <td>None</td>\n",
              "      <td>None</td>\n",
              "      <td>None</td>\n",
              "      <td>NaN</td>\n",
              "      <td>NaN</td>\n",
              "      <td>None</td>\n",
              "      <td>None</td>\n",
              "      <td>None</td>\n",
              "      <td>None</td>\n",
              "    </tr>\n",
              "    <tr>\n",
              "      <th>1</th>\n",
              "      <td>2020-11-24</td>\n",
              "      <td>10235.0</td>\n",
              "      <td>3.38</td>\n",
              "      <td>None</td>\n",
              "      <td>None</td>\n",
              "      <td>None</td>\n",
              "      <td>134.0</td>\n",
              "      <td>5.0</td>\n",
              "      <td>None</td>\n",
              "      <td>None</td>\n",
              "      <td>None</td>\n",
              "      <td>None</td>\n",
              "    </tr>\n",
              "    <tr>\n",
              "      <th>2</th>\n",
              "      <td>2020-11-25</td>\n",
              "      <td>22955.0</td>\n",
              "      <td>5.44</td>\n",
              "      <td>None</td>\n",
              "      <td>None</td>\n",
              "      <td>None</td>\n",
              "      <td>567.0</td>\n",
              "      <td>9.0</td>\n",
              "      <td>None</td>\n",
              "      <td>None</td>\n",
              "      <td>None</td>\n",
              "      <td>None</td>\n",
              "    </tr>\n",
              "    <tr>\n",
              "      <th>3</th>\n",
              "      <td>2020-11-26</td>\n",
              "      <td>7636.0</td>\n",
              "      <td>4.62</td>\n",
              "      <td>None</td>\n",
              "      <td>None</td>\n",
              "      <td>None</td>\n",
              "      <td>NaN</td>\n",
              "      <td>3.0</td>\n",
              "      <td>None</td>\n",
              "      <td>None</td>\n",
              "      <td>None</td>\n",
              "      <td>None</td>\n",
              "    </tr>\n",
              "    <tr>\n",
              "      <th>4</th>\n",
              "      <td>2020-11-27</td>\n",
              "      <td>36288.0</td>\n",
              "      <td>5.65</td>\n",
              "      <td>None</td>\n",
              "      <td>None</td>\n",
              "      <td>None</td>\n",
              "      <td>1168.0</td>\n",
              "      <td>9.0</td>\n",
              "      <td>None</td>\n",
              "      <td>None</td>\n",
              "      <td>None</td>\n",
              "      <td>None</td>\n",
              "    </tr>\n",
              "    <tr>\n",
              "      <th>...</th>\n",
              "      <td>...</td>\n",
              "      <td>...</td>\n",
              "      <td>...</td>\n",
              "      <td>...</td>\n",
              "      <td>...</td>\n",
              "      <td>...</td>\n",
              "      <td>...</td>\n",
              "      <td>...</td>\n",
              "      <td>...</td>\n",
              "      <td>...</td>\n",
              "      <td>...</td>\n",
              "      <td>...</td>\n",
              "    </tr>\n",
              "    <tr>\n",
              "      <th>104</th>\n",
              "      <td>2021-03-07</td>\n",
              "      <td>35214.0</td>\n",
              "      <td>9.83</td>\n",
              "      <td>None</td>\n",
              "      <td>None</td>\n",
              "      <td>None</td>\n",
              "      <td>724.0</td>\n",
              "      <td>47.0</td>\n",
              "      <td>None</td>\n",
              "      <td>None</td>\n",
              "      <td>None</td>\n",
              "      <td>None</td>\n",
              "    </tr>\n",
              "    <tr>\n",
              "      <th>105</th>\n",
              "      <td>2021-03-08</td>\n",
              "      <td>43726.0</td>\n",
              "      <td>16.71</td>\n",
              "      <td>None</td>\n",
              "      <td>None</td>\n",
              "      <td>None</td>\n",
              "      <td>768.0</td>\n",
              "      <td>36.0</td>\n",
              "      <td>None</td>\n",
              "      <td>None</td>\n",
              "      <td>None</td>\n",
              "      <td>None</td>\n",
              "    </tr>\n",
              "    <tr>\n",
              "      <th>106</th>\n",
              "      <td>2021-03-09</td>\n",
              "      <td>14888.0</td>\n",
              "      <td>8.13</td>\n",
              "      <td>None</td>\n",
              "      <td>None</td>\n",
              "      <td>None</td>\n",
              "      <td>126.0</td>\n",
              "      <td>27.0</td>\n",
              "      <td>None</td>\n",
              "      <td>None</td>\n",
              "      <td>None</td>\n",
              "      <td>None</td>\n",
              "    </tr>\n",
              "    <tr>\n",
              "      <th>107</th>\n",
              "      <td>2021-03-10</td>\n",
              "      <td>42802.0</td>\n",
              "      <td>11.39</td>\n",
              "      <td>None</td>\n",
              "      <td>None</td>\n",
              "      <td>None</td>\n",
              "      <td>1087.0</td>\n",
              "      <td>45.0</td>\n",
              "      <td>None</td>\n",
              "      <td>None</td>\n",
              "      <td>None</td>\n",
              "      <td>None</td>\n",
              "    </tr>\n",
              "    <tr>\n",
              "      <th>108</th>\n",
              "      <td>2021-03-11</td>\n",
              "      <td>33187.0</td>\n",
              "      <td>8.71</td>\n",
              "      <td>None</td>\n",
              "      <td>None</td>\n",
              "      <td>None</td>\n",
              "      <td>930.0</td>\n",
              "      <td>24.0</td>\n",
              "      <td>None</td>\n",
              "      <td>None</td>\n",
              "      <td>None</td>\n",
              "      <td>None</td>\n",
              "    </tr>\n",
              "  </tbody>\n",
              "</table>\n",
              "<p>109 rows × 12 columns</p>\n",
              "</div>"
            ],
            "text/plain": [
              "           date    Steps  ...  Walking Heart Rate Average Mindful Session\n",
              "0    2020-11-23     53.0  ...                        None            None\n",
              "1    2020-11-24  10235.0  ...                        None            None\n",
              "2    2020-11-25  22955.0  ...                        None            None\n",
              "3    2020-11-26   7636.0  ...                        None            None\n",
              "4    2020-11-27  36288.0  ...                        None            None\n",
              "..          ...      ...  ...                         ...             ...\n",
              "104  2021-03-07  35214.0  ...                        None            None\n",
              "105  2021-03-08  43726.0  ...                        None            None\n",
              "106  2021-03-09  14888.0  ...                        None            None\n",
              "107  2021-03-10  42802.0  ...                        None            None\n",
              "108  2021-03-11  33187.0  ...                        None            None\n",
              "\n",
              "[109 rows x 12 columns]"
            ]
          },
          "metadata": {
            "tags": []
          },
          "execution_count": 29
        }
      ]
    },
    {
      "cell_type": "code",
      "metadata": {
        "id": "KdU642Kx8ytP"
      },
      "source": [
        "result_df.to_excel('Apple.xls')"
      ],
      "execution_count": 33,
      "outputs": []
    },
    {
      "cell_type": "code",
      "metadata": {
        "id": "5nfQbhuo85ER"
      },
      "source": [
        ""
      ],
      "execution_count": null,
      "outputs": []
    }
  ]
}